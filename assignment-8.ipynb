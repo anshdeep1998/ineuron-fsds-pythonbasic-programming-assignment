{
 "cells": [
  {
   "cell_type": "code",
   "execution_count": 2,
   "id": "41a2d6ec",
   "metadata": {},
   "outputs": [
    {
     "name": "stdout",
     "output_type": "stream",
     "text": [
      "[6, 89, 33]\n",
      "[49, 12, 9]\n",
      "[77, 13, 48]\n"
     ]
    }
   ],
   "source": [
    "#Q-1\n",
    "X = [[1,71,32],\n",
    "    [43 ,5,6],\n",
    "    [73 ,8,9]]\n",
    "\n",
    "Y = [[5,18,1],\n",
    "    [6,7,3],\n",
    "    [4,5,39]]\n",
    "\n",
    "result = [[0,0,0], #initialized\n",
    "         [0,0,0],\n",
    "         [0,0,0]]\n",
    "\n",
    "# iterate through rows\n",
    "for i in range(len(X)):\n",
    "   # iterate through columns\n",
    "   for j in range(len(X[0])):\n",
    "       result[i][j] = X[i][j] + Y[i][j]\n",
    "\n",
    "for r in result:\n",
    "   print(r)"
   ]
  },
  {
   "cell_type": "code",
   "execution_count": 5,
   "id": "50ffcd12",
   "metadata": {},
   "outputs": [
    {
     "name": "stdout",
     "output_type": "stream",
     "text": [
      "[559, 675, 1462]\n",
      "[269, 839, 292]\n",
      "[449, 1415, 448]\n"
     ]
    }
   ],
   "source": [
    "#Q-2\n",
    "X = [[1,71,32],\n",
    "    [43 ,5,6],\n",
    "    [73 ,8,9]]\n",
    "\n",
    "Y = [[5,18,1],\n",
    "    [6,7,3],\n",
    "    [4,5,39]]\n",
    "\n",
    "result = [[0,0,0], #initialized\n",
    "         [0,0,0],\n",
    "         [0,0,0]]\n",
    "\n",
    "for i in range(len(X)):\n",
    "    for j in range(len(Y[0])):\n",
    "        for k in range(len(Y)):\n",
    "            result[i][j] += X[i][k] * Y[k][j]\n",
    "            \n",
    "for r in result: #As per matrix multiplication\n",
    "   print(r)"
   ]
  },
  {
   "cell_type": "code",
   "execution_count": 8,
   "id": "d3d97222",
   "metadata": {},
   "outputs": [
    {
     "data": {
      "text/plain": [
       "array([[ 1, 71, 32],\n",
       "       [43,  5,  6],\n",
       "       [73,  8,  9]])"
      ]
     },
     "execution_count": 8,
     "metadata": {},
     "output_type": "execute_result"
    }
   ],
   "source": [
    "#Q-3\n",
    "import numpy as np\n",
    "X = [[1,71,32],\n",
    "    [43 ,5,6],\n",
    "    [73 ,8,9]]\n",
    "npX = np.array(X)\n",
    "npX"
   ]
  },
  {
   "cell_type": "code",
   "execution_count": 10,
   "id": "9e409584",
   "metadata": {},
   "outputs": [
    {
     "data": {
      "text/plain": [
       "array([[ 1, 43, 73],\n",
       "       [71,  5,  8],\n",
       "       [32,  6,  9]])"
      ]
     },
     "execution_count": 10,
     "metadata": {},
     "output_type": "execute_result"
    }
   ],
   "source": [
    "npX.T #transpose"
   ]
  },
  {
   "cell_type": "code",
   "execution_count": null,
   "id": "eeb00175",
   "metadata": {},
   "outputs": [],
   "source": []
  },
  {
   "cell_type": "code",
   "execution_count": null,
   "id": "bd048b14",
   "metadata": {},
   "outputs": [],
   "source": []
  },
  {
   "cell_type": "code",
   "execution_count": 12,
   "id": "6815c3ee",
   "metadata": {},
   "outputs": [
    {
     "name": "stdout",
     "output_type": "stream",
     "text": [
      "Enter a string: HI good morning, I am Sejej\n",
      "The sorted words are:\n",
      "am\n",
      "good\n",
      "hi\n",
      "i\n",
      "morning,\n",
      "sejej\n"
     ]
    }
   ],
   "source": [
    "#Q-4\n",
    "my_str = input(\"Enter a string: \")\n",
    "\n",
    "words = [word.lower() for word in my_str.split()]\n",
    "\n",
    "words.sort()\n",
    "\n",
    "\n",
    "print(\"The sorted words are:\")\n",
    "for word in words:\n",
    "   print(word)"
   ]
  },
  {
   "cell_type": "code",
   "execution_count": null,
   "id": "0a8c5041",
   "metadata": {},
   "outputs": [],
   "source": []
  },
  {
   "cell_type": "code",
   "execution_count": null,
   "id": "123a27ac",
   "metadata": {},
   "outputs": [],
   "source": []
  },
  {
   "cell_type": "code",
   "execution_count": 14,
   "id": "33ec3eff",
   "metadata": {},
   "outputs": [
    {
     "name": "stdout",
     "output_type": "stream",
     "text": [
      "Enter stringPython, best\",'\\\n"
     ]
    },
    {
     "data": {
      "text/plain": [
       "'Python best'"
      ]
     },
     "execution_count": 14,
     "metadata": {},
     "output_type": "execute_result"
    }
   ],
   "source": [
    "#Q-5\n",
    "punc = '''!()-[]{};:'\"\\,<>./?@#$%^&*_~'''\n",
    "st = str(input(\"Enter string\"))\n",
    "for ele in st:\n",
    "    if ele in punc:\n",
    "        st = st.replace(ele, \"\")\n",
    "st"
   ]
  },
  {
   "cell_type": "code",
   "execution_count": null,
   "id": "9cbb8a73",
   "metadata": {},
   "outputs": [],
   "source": []
  }
 ],
 "metadata": {
  "kernelspec": {
   "display_name": "Python 3 (ipykernel)",
   "language": "python",
   "name": "python3"
  },
  "language_info": {
   "codemirror_mode": {
    "name": "ipython",
    "version": 3
   },
   "file_extension": ".py",
   "mimetype": "text/x-python",
   "name": "python",
   "nbconvert_exporter": "python",
   "pygments_lexer": "ipython3",
   "version": "3.9.12"
  }
 },
 "nbformat": 4,
 "nbformat_minor": 5
}
