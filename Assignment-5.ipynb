{
 "cells": [
  {
   "cell_type": "code",
   "execution_count": 3,
   "id": "33f2163b",
   "metadata": {},
   "outputs": [
    {
     "name": "stdout",
     "output_type": "stream",
     "text": [
      "LCM is:  10\n"
     ]
    }
   ],
   "source": [
    "#Q-1\n",
    "def LCM(x, y):\n",
    "\n",
    "   if x > y:\n",
    "       more = x\n",
    "   else:\n",
    "       more = y\n",
    "\n",
    "   while(True):\n",
    "       if((more % x == 0) and (more % y == 0)):\n",
    "           lcm = more\n",
    "           break\n",
    "       more += 1\n",
    "\n",
    "   return lcm\n",
    "\n",
    "\n",
    "print(\"LCM is: \", LCM(10, 5))"
   ]
  },
  {
   "cell_type": "code",
   "execution_count": 7,
   "id": "1a748092",
   "metadata": {},
   "outputs": [
    {
     "name": "stdout",
     "output_type": "stream",
     "text": [
      "The H.C.F. is 6\n"
     ]
    }
   ],
   "source": [
    "#q-2\n",
    "def compute_hcf(x, y):\n",
    "\n",
    "# choose the smaller number\n",
    "    if x > y:\n",
    "        smaller = y\n",
    "    else:\n",
    "        smaller = x\n",
    "    for i in range(1, smaller+1):\n",
    "        if((x % i == 0) and (y % i == 0)):\n",
    "            hcf = i \n",
    "    return hcf\n",
    "\n",
    "num1 = 54 \n",
    "num2 = 24\n",
    "\n",
    "print(\"The H.C.F. is\", compute_hcf(num1, num2))"
   ]
  },
  {
   "cell_type": "code",
   "execution_count": 9,
   "id": "3d1d5567",
   "metadata": {},
   "outputs": [
    {
     "name": "stdout",
     "output_type": "stream",
     "text": [
      "ENter decimal: 1500\n",
      "The decimal value of 344 is:\n",
      "0b101011000 in binary.\n",
      "0o530 in octal.\n",
      "0x158 in hexadecimal.\n"
     ]
    }
   ],
   "source": [
    "#Q-3\n",
    "# Python program to convert decimal into other number systems\n",
    "decimal = int(input(\"ENter decimal: \"))\n",
    "\n",
    "print(\"The decimal value of\", dec, \"is:\")\n",
    "print(bin(dec), \"in binary.\")\n",
    "print(oct(dec), \"in octal.\")\n",
    "print(hex(dec), \"in hexadecimal.\")"
   ]
  },
  {
   "cell_type": "code",
   "execution_count": 1,
   "id": "e971a2a8",
   "metadata": {},
   "outputs": [
    {
     "name": "stdout",
     "output_type": "stream",
     "text": [
      "ENter char: r\n",
      "The ASCII value of 'r' is 114\n"
     ]
    }
   ],
   "source": [
    "#Q-4\n",
    "char = str(input(\"ENter char: \"))\n",
    "print(\"The ASCII value of '\" + char + \"' is\", ord(char))"
   ]
  },
  {
   "cell_type": "code",
   "execution_count": 3,
   "id": "f1e4feaf",
   "metadata": {},
   "outputs": [
    {
     "name": "stdout",
     "output_type": "stream",
     "text": [
      "Select operation.\n",
      "1.Add\n",
      "2.Subtract\n",
      "3.Multiply\n",
      "4.Divide\n",
      "Enter x: 4\n",
      "Enter y: 2\n",
      "Enter operation 1,2,3,4: 3\n",
      "8\n"
     ]
    }
   ],
   "source": [
    "#Q-5\n",
    "def add(x, y):\n",
    "    return x + y\n",
    "\n",
    "def subtract(x, y):\n",
    "    return x - y\n",
    "\n",
    "\n",
    "def multiply(x, y):\n",
    "    return x * y\n",
    "\n",
    "def divide(x, y):\n",
    "    return x / y\n",
    "\n",
    "\n",
    "print(\"Select operation.\")\n",
    "print(\"1.Add\")\n",
    "print(\"2.Subtract\")\n",
    "print(\"3.Multiply\")\n",
    "print(\"4.Divide\")\n",
    "\n",
    "x=int(input(\"Enter x: \"))\n",
    "y=int(input(\"Enter y: \"))\n",
    "\n",
    "choice = int(input(\"Enter operation 1,2,3,4: \"))\n",
    "\n",
    "\n",
    "\n",
    "if choice==1:\n",
    "    print(add(x,y))\n",
    "    \n",
    "elif choice==2:\n",
    "    print(subtract(x,y))\n",
    "\n",
    "elif choice==3:\n",
    "    print(multiply(x,y))\n",
    "    \n",
    "elif choice==4:\n",
    "    print(divide(x,y))\n",
    "    \n",
    "else:\n",
    "    print(\"Enter correct operation\")"
   ]
  },
  {
   "cell_type": "code",
   "execution_count": null,
   "id": "7503f3a8",
   "metadata": {},
   "outputs": [],
   "source": []
  },
  {
   "cell_type": "code",
   "execution_count": null,
   "id": "d646a083",
   "metadata": {},
   "outputs": [],
   "source": []
  },
  {
   "cell_type": "code",
   "execution_count": null,
   "id": "a3fca41b",
   "metadata": {},
   "outputs": [],
   "source": []
  }
 ],
 "metadata": {
  "kernelspec": {
   "display_name": "Python 3 (ipykernel)",
   "language": "python",
   "name": "python3"
  },
  "language_info": {
   "codemirror_mode": {
    "name": "ipython",
    "version": 3
   },
   "file_extension": ".py",
   "mimetype": "text/x-python",
   "name": "python",
   "nbconvert_exporter": "python",
   "pygments_lexer": "ipython3",
   "version": "3.9.12"
  }
 },
 "nbformat": 4,
 "nbformat_minor": 5
}
