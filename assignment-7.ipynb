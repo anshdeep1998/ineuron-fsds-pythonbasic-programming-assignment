{
 "cells": [
  {
   "cell_type": "code",
   "execution_count": 4,
   "id": "7eedb1d7",
   "metadata": {},
   "outputs": [],
   "source": [
    "#Q-1\n",
    "def sum_array(arr):\n",
    "    sum1=0\n",
    "    for i in arr:\n",
    "        sum1 = sum1 + i\n",
    "    return(sum1)"
   ]
  },
  {
   "cell_type": "code",
   "execution_count": 5,
   "id": "a80a77ac",
   "metadata": {},
   "outputs": [
    {
     "data": {
      "text/plain": [
       "113"
      ]
     },
     "execution_count": 5,
     "metadata": {},
     "output_type": "execute_result"
    }
   ],
   "source": [
    "arr = [1,2,45,22,43]\n",
    "\n",
    "sum_array(arr)"
   ]
  },
  {
   "cell_type": "code",
   "execution_count": 10,
   "id": "69b74440",
   "metadata": {},
   "outputs": [],
   "source": [
    "#Q-2\n",
    "def largest(arr):\n",
    "    largest = arr[0] #initialize/assume as 1st number in array as largest\n",
    "    n = len(arr)\n",
    "    for i in range(1, n):\n",
    "        if arr[i] > largest:\n",
    "            largest = arr[i]\n",
    "    return largest"
   ]
  },
  {
   "cell_type": "code",
   "execution_count": 11,
   "id": "4c922485",
   "metadata": {},
   "outputs": [
    {
     "data": {
      "text/plain": [
       "223"
      ]
     },
     "execution_count": 11,
     "metadata": {},
     "output_type": "execute_result"
    }
   ],
   "source": [
    "\n",
    "largest([1,23,223,12,123])"
   ]
  },
  {
   "cell_type": "code",
   "execution_count": 15,
   "id": "3958baa6",
   "metadata": {},
   "outputs": [],
   "source": [
    "#Q-3\n",
    "def rotate(arr, v):#rotation by v elements\n",
    "    temp = []\n",
    "    i = 0\n",
    "    n=len(arr)\n",
    "    while (i < v):\n",
    "        temp.append(arr[i])\n",
    "        i = i + 1\n",
    "    i = 0\n",
    "    while (v < n):\n",
    "        arr[i] = arr[v]\n",
    "        i = i + 1\n",
    "        v = v + 1\n",
    "    arr[:] = arr[: i] + temp\n",
    "    return arr\n",
    " \n",
    " "
   ]
  },
  {
   "cell_type": "code",
   "execution_count": 16,
   "id": "be84cdd6",
   "metadata": {},
   "outputs": [
    {
     "data": {
      "text/plain": [
       "[12, 123, 1, 23, 223]"
      ]
     },
     "execution_count": 16,
     "metadata": {},
     "output_type": "execute_result"
    }
   ],
   "source": [
    "rotate([1,23,223,12,123],3)"
   ]
  },
  {
   "cell_type": "code",
   "execution_count": null,
   "id": "c942555d",
   "metadata": {},
   "outputs": [],
   "source": []
  },
  {
   "cell_type": "code",
   "execution_count": 22,
   "id": "5956c40f",
   "metadata": {},
   "outputs": [],
   "source": [
    "#Q-4\n",
    "def split(arr, k): \n",
    "    n = len(arr)\n",
    "    for i in range(0, k): \n",
    "        x = arr[0]\n",
    "        for j in range(0, n-1):\n",
    "            arr[j] = arr[j + 1]\n",
    "          \n",
    "        arr[n-1] = x"
   ]
  },
  {
   "cell_type": "code",
   "execution_count": 23,
   "id": "0a626b99",
   "metadata": {},
   "outputs": [],
   "source": [
    "split([12, 10, 5, 6, 52, 36],4)"
   ]
  },
  {
   "cell_type": "code",
   "execution_count": 24,
   "id": "12525774",
   "metadata": {},
   "outputs": [
    {
     "name": "stdout",
     "output_type": "stream",
     "text": [
      "1 2 45 22 43 "
     ]
    }
   ],
   "source": [
    "for i in range(0, len(arr)): #output\n",
    "    print(arr[i], end = ' ')"
   ]
  },
  {
   "cell_type": "code",
   "execution_count": 28,
   "id": "d5ae0e32",
   "metadata": {},
   "outputs": [
    {
     "data": {
      "text/plain": [
       "'NOT Monotonic'"
      ]
     },
     "execution_count": 28,
     "metadata": {},
     "output_type": "execute_result"
    }
   ],
   "source": [
    "#Q-5\n",
    "def Monotony(n):\n",
    "    x, y = [], []\n",
    "    x.extend(n)\n",
    "    y.extend(n)\n",
    "    x.sort()#sortdescending\n",
    "    y.sort(reverse=True)#sort ascending\n",
    "    if(x == n or y == n):\n",
    "        return \"YES monotonic\"\n",
    "    return \"NOT Monotonic\"\n",
    " \n",
    " \n",
    "\n",
    "Monotony([6,2,53,2])\n"
   ]
  },
  {
   "cell_type": "code",
   "execution_count": null,
   "id": "ba869c6d",
   "metadata": {},
   "outputs": [],
   "source": []
  }
 ],
 "metadata": {
  "kernelspec": {
   "display_name": "Python 3 (ipykernel)",
   "language": "python",
   "name": "python3"
  },
  "language_info": {
   "codemirror_mode": {
    "name": "ipython",
    "version": 3
   },
   "file_extension": ".py",
   "mimetype": "text/x-python",
   "name": "python",
   "nbconvert_exporter": "python",
   "pygments_lexer": "ipython3",
   "version": "3.9.12"
  }
 },
 "nbformat": 4,
 "nbformat_minor": 5
}
