{
 "cells": [
  {
   "cell_type": "code",
   "execution_count": 1,
   "id": "8cf5d26e",
   "metadata": {},
   "outputs": [
    {
     "name": "stdout",
     "output_type": "stream",
     "text": [
      "Hello Python\n"
     ]
    }
   ],
   "source": [
    "# Q-1)\n",
    "print(\"Hello Python\")"
   ]
  },
  {
   "cell_type": "code",
   "execution_count": 3,
   "id": "aa5ec281",
   "metadata": {},
   "outputs": [
    {
     "name": "stdout",
     "output_type": "stream",
     "text": [
      "8\n",
      "4.0\n"
     ]
    }
   ],
   "source": [
    "#Q-2)\n",
    "\n",
    "print(3+5)\n",
    "print(8/2)"
   ]
  },
  {
   "cell_type": "code",
   "execution_count": 4,
   "id": "08e4a227",
   "metadata": {},
   "outputs": [
    {
     "name": "stdout",
     "output_type": "stream",
     "text": [
      "Enter base:4\n",
      "Enter height:5\n",
      "Area is:  10.0\n"
     ]
    }
   ],
   "source": [
    "#Q-3)\n",
    "base = int(input(\"Enter base:\"))\n",
    "height = int(input(\"Enter height:\"))\n",
    "\n",
    "area = 1/2*(base)*height\n",
    "print(\"Area is: \",area)"
   ]
  },
  {
   "cell_type": "code",
   "execution_count": 5,
   "id": "534c930a",
   "metadata": {},
   "outputs": [],
   "source": [
    "#Q-4\n",
    "x=3\n",
    "y=4\n",
    "#to swap\n",
    "\n",
    "temp=x\n",
    "x=y\n",
    "y=temp\n"
   ]
  },
  {
   "cell_type": "code",
   "execution_count": 6,
   "id": "a60a53ba",
   "metadata": {},
   "outputs": [
    {
     "name": "stdout",
     "output_type": "stream",
     "text": [
      "4\n"
     ]
    }
   ],
   "source": [
    "print(x)"
   ]
  },
  {
   "cell_type": "code",
   "execution_count": 7,
   "id": "e64372fd",
   "metadata": {},
   "outputs": [
    {
     "name": "stdout",
     "output_type": "stream",
     "text": [
      "3\n"
     ]
    }
   ],
   "source": [
    "print(y)"
   ]
  },
  {
   "cell_type": "code",
   "execution_count": 8,
   "id": "8d46e668",
   "metadata": {},
   "outputs": [],
   "source": [
    "#This shows x and y have been swapped"
   ]
  },
  {
   "cell_type": "code",
   "execution_count": null,
   "id": "71bac296",
   "metadata": {},
   "outputs": [],
   "source": []
  },
  {
   "cell_type": "code",
   "execution_count": 12,
   "id": "d77b0d1d",
   "metadata": {},
   "outputs": [
    {
     "name": "stdout",
     "output_type": "stream",
     "text": [
      "36\n"
     ]
    }
   ],
   "source": [
    "#Q-5\n",
    "import random\n",
    "print(random.randint(1,100))#prints a random number between 1 and 100"
   ]
  },
  {
   "cell_type": "code",
   "execution_count": null,
   "id": "2c04735f",
   "metadata": {},
   "outputs": [],
   "source": []
  }
 ],
 "metadata": {
  "kernelspec": {
   "display_name": "Python 3 (ipykernel)",
   "language": "python",
   "name": "python3"
  },
  "language_info": {
   "codemirror_mode": {
    "name": "ipython",
    "version": 3
   },
   "file_extension": ".py",
   "mimetype": "text/x-python",
   "name": "python",
   "nbconvert_exporter": "python",
   "pygments_lexer": "ipython3",
   "version": "3.9.12"
  }
 },
 "nbformat": 4,
 "nbformat_minor": 5
}
